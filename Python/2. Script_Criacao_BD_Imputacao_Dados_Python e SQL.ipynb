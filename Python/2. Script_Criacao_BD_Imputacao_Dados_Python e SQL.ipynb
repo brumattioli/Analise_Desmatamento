{
 "cells": [
  {
   "cell_type": "markdown",
   "id": "46806e04-6e54-4b48-b8e9-c39e4ba700e3",
   "metadata": {
    "id": "034e61a3-eeef-4ad9-a8c8-1e2d20d377ae"
   },
   "source": [
    "**Trabalho:** Projeto Integrador 2\n",
    "\n",
    "**Discentes**: Bruna Mattioli de Oliveira e Gabriel Andrade Varga\n",
    "\n",
    "**Descrição:** Criação do Banco de Dados no PostgreSQL e imputação dos dados oriundos de um arquivo CSV diretamente no Banco de Dados"
   ]
  },
  {
   "cell_type": "code",
   "execution_count": 1,
   "id": "63aecc88-b32c-46e1-ad32-86f939d3f2b2",
   "metadata": {
    "id": "05dfc4e7-39c1-45bf-8b2e-eada5088ea8c"
   },
   "outputs": [
    {
     "data": {
      "text/plain": [
       "'pt_BR.UTF-8'"
      ]
     },
     "execution_count": 1,
     "metadata": {},
     "output_type": "execute_result"
    }
   ],
   "source": [
    "import numpy as np\n",
    "import pandas as pd\n",
    "import psycopg2 \n",
    "import csv\n",
    "import pandas.io.sql as sqlio\n",
    "from matplotlib import pyplot as plt\n",
    "from matplotlib import ticker as ticker\n",
    "import locale\n",
    "locale.setlocale(locale.LC_NUMERIC, \"pt_BR.UTF-8\")"
   ]
  },
  {
   "cell_type": "markdown",
   "id": "0da6b36b-2e5b-41d9-87f0-5be448218dab",
   "metadata": {},
   "source": [
    "<h1>Importação do Banco de Dados em CSV e Criação das Tabelas no BD"
   ]
  },
  {
   "cell_type": "code",
   "execution_count": 2,
   "id": "5c8c9659-1f4a-4156-8677-0eb1aa4df10a",
   "metadata": {},
   "outputs": [],
   "source": [
    "# Importação do conjunto de dados completo contendo as informações de desmatamento em CSV\n",
    "desmatamento = pd.read_csv(\"G:/My Drive/Especialização/Disciplinas/Módulo 2/Projeto Integrador 2/Bases/DesmatamentoMunicipios.csv\", sep=';')\n",
    "\n",
    "# Conexão no postgre com o banco de dados Projeto_Integrador_2\n",
    "conn = psycopg2.connect(\"dbname=Projeto_Integrador_2 user=postgres password=vagan9ch\")\n",
    "cur = conn.cursor()\n",
    "\n",
    "# Criação das tabelas modeladas no Postgre\n",
    "cur.execute(\"CREATE TABLE uf (id_uf SERIAL PRIMARY KEY, sigla_uf VARCHAR);\")\n",
    "cur.execute(\"CREATE TABLE municipio (id_municipio SERIAL PRIMARY KEY, nome_municipio VARCHAR, id_uf INTEGER);\")\n",
    "cur.execute(\"CREATE TABLE desmatamento (id_desmatamento SERIAL PRIMARY KEY, km_hidrografia NUMERIC(30,2), km_area_total NUMERIC(30,2), km_desmatado NUMERIC(30,2), km_n_floresta NUMERIC(30,2), km_nuvem NUMERIC(30,2), km_n_obs NUMERIC(30,2), km_floresta NUMERIC(30,2), id_municipio INTEGER, id_ano INTEGER);\")\n",
    "cur.execute(\"CREATE TABLE ano (id_ano SERIAL PRIMARY KEY, ano INTEGER);\")\n",
    "\n",
    "# Atribuição das chaves estrangeiras\n",
    "cur.execute(\"ALTER TABLE municipio ADD FOREIGN KEY (id_uf) REFERENCES uf (id_uf);\")\n",
    "cur.execute(\"ALTER TABLE desmatamento ADD FOREIGN KEY (id_municipio) REFERENCES municipio (id_municipio);\")\n",
    "cur.execute(\"ALTER TABLE desmatamento ADD FOREIGN KEY (id_ano) REFERENCES ano (id_ano);\")\n",
    "\n",
    "# Execução das atualizações\n",
    "conn.commit()"
   ]
  },
  {
   "cell_type": "markdown",
   "id": "e484b119-3084-4617-b11c-9b9f2cdcf11b",
   "metadata": {},
   "source": [
    "<h1>Imputação dos Dados no PostgreSQL"
   ]
  },
  {
   "cell_type": "code",
   "execution_count": 3,
   "id": "6a2ac212-ee63-4eaf-8f78-6ba0f386e404",
   "metadata": {},
   "outputs": [],
   "source": [
    "#----------------------------------------------------\n",
    "# Imputando os dados da tabela / entidade UF no BD\n",
    "#----------------------------------------------------\n",
    "\n",
    "# Filtro do campo necessário\n",
    "uf = desmatamento[['Estado']]\n",
    "\n",
    "# Retirada dos valores duplicados. Não é necessário ter os dados repetidos no BD.\n",
    "uf2 = uf.drop_duplicates(subset = 'Estado')\n",
    "\n",
    "# Criação de uma lista com os dados da coluna\n",
    "sigla_uf = uf2['Estado'].tolist()\n",
    "\n",
    "#Criação de uma lista de dicionários contendo os dados da coluna estado e com a chave sigla_uf\n",
    "uf_dicionario = {}\n",
    "uf_lista = []\n",
    "\n",
    "for i in range(0, len(sigla_uf)):\n",
    "    \n",
    "    uf_dicionario[i] = dict({'sigla_uf':sigla_uf[i]})\n",
    "    \n",
    "    uf_lista.append(uf_dicionario[i])\n",
    "\n",
    "# Imputação dos dados na tabela do BD estado\n",
    "cur.executemany(\"\"\"INSERT INTO uf (sigla_uf) VALUES (%(sigla_uf)s);\"\"\", uf_lista)\n",
    "\n",
    "# Execução das atualizações\n",
    "conn.commit()"
   ]
  },
  {
   "cell_type": "code",
   "execution_count": 4,
   "id": "972795e5-f377-42a7-80f9-8f2310af7035",
   "metadata": {},
   "outputs": [],
   "source": [
    "#----------------------------------------------------\n",
    "# Imputando os dados da tabela / entidade ano no BD\n",
    "#----------------------------------------------------\n",
    "\n",
    "# Filtro do campo necessário\n",
    "ano = desmatamento[['Ano']]\n",
    "\n",
    "# Retirada dos valores duplicados. Não é necessário ter os dados repetidos no BD.\n",
    "ano2 = ano.drop_duplicates(subset = 'Ano')\n",
    "\n",
    "# Criação de uma lista com os dados da coluna\n",
    "coluna_ano = ano2['Ano'].tolist()\n",
    "\n",
    "#Criação de uma lista de dicionários contendo os dados da coluna estado e com a chave sigla_uf\n",
    "ano_dicionario = {}\n",
    "ano_lista = []\n",
    "\n",
    "for i in range(0, len(coluna_ano)):\n",
    "    \n",
    "    ano_dicionario[i] = dict({'ano':coluna_ano[i]})\n",
    "    \n",
    "    ano_lista.append(ano_dicionario[i])\n",
    "\n",
    "# Imputação dos dados na tabela do BD estado\n",
    "cur.executemany(\"\"\"INSERT INTO ano (ano) VALUES (%(ano)s);\"\"\", ano_lista)\n",
    "\n",
    "# Execução das atualizações\n",
    "conn.commit()"
   ]
  },
  {
   "cell_type": "code",
   "execution_count": 5,
   "id": "b630f52f-6979-4180-87a2-e8cb09562a15",
   "metadata": {},
   "outputs": [],
   "source": [
    "#----------------------------------------------------------\n",
    "# Imputando os dados da tabela / entidade municipio no BD\n",
    "#----------------------------------------------------------\n",
    "\n",
    "# Imputando os dados via um looping no CSV linha por linha \n",
    "with open('G:/My Drive/Especialização/Disciplinas/Módulo 2/Projeto Integrador 2/Bases/Lista_Municipios.csv',newline='', encoding='utf8', errors='ignore') as csvfile:\n",
    "    reader = csv.DictReader(csvfile, delimiter=';')\n",
    "    for row in reader:\n",
    "        if row['Estado'] == 'PA' or row['Estado'] == 'MA' or row['Estado'] == 'MT' or row['Estado'] == 'RO' or row['Estado'] == 'TO' or row['Estado'] == 'AC' or row['Estado'] == 'AM' or row['Estado'] == 'RR' or row['Estado'] == 'AP':\n",
    "            id_uf = 0\n",
    "            query = \"SELECT id_uf FROM uf WHERE sigla_uf = '%s'\"\n",
    "            var1 = row['Estado']\n",
    "            cur.execute(query % var1)\n",
    "            id_uf = cur.fetchone()\n",
    "            insert = \"INSERT INTO municipio(nome_municipio, id_uf) VALUES (%s,%s)\"\n",
    "            parametros = (row['Municipio'], id_uf[0])\n",
    "            cur.execute(insert, parametros)\n",
    "\n",
    "# Execução das atualizações\n",
    "conn.commit()"
   ]
  },
  {
   "cell_type": "code",
   "execution_count": 6,
   "id": "02498728-544d-4ab4-9297-ab6739bbdad0",
   "metadata": {},
   "outputs": [],
   "source": [
    "#-------------------------------------------------------------\n",
    "# Imputando os dados da tabela / entidade desmatamento no BD\n",
    "#-------------------------------------------------------------\n",
    "\n",
    "# Imputando os dados via um looping no CSV linha por linha \n",
    "with open('G:/My Drive/Especialização/Disciplinas/Módulo 2/Projeto Integrador 2/Bases/DesmatamentoMunicipios.csv',newline='', encoding='utf8', errors='ignore') as csvfile:\n",
    "    reader = csv.DictReader(csvfile, delimiter=';')\n",
    "    for row in reader:\n",
    "        if row['Estado'] == 'PA' or row['Estado'] == 'MA' or row['Estado'] == 'MT' or row['Estado'] == 'RO' or row['Estado'] == 'TO' or row['Estado'] == 'AC' or row['Estado'] == 'AM' or row['Estado'] == 'RR' or row['Estado'] == 'AP':\n",
    "            id_municipio = 0\n",
    "            id_ano = 0\n",
    "            query1 = \"SELECT id_municipio FROM municipio WHERE nome_municipio = '%s'\"\n",
    "            var1 = row['Municipio']\n",
    "            query2 = \"SELECT id_ano FROM ano WHERE ano = '%s'\"\n",
    "            var2 = row['Ano']\n",
    "            cur.execute(query1 % var1)\n",
    "            id_municipio = cur.fetchone()\n",
    "            cur.execute(query2 % var2)\n",
    "            id_ano = cur.fetchone()\n",
    "            insert = \"INSERT INTO desmatamento(km_hidrografia, km_area_total, km_desmatado, km_n_floresta, km_nuvem, km_n_obs, km_floresta, id_municipio, id_ano) VALUES (%s,%s,%s,%s,%s,%s,%s,%s,%s)\"\n",
    "            parametros = (row['Hidrografia'], row['AreaKm2'], row['Desmatado'], row['NaoFloresta'], row['Nuvem'], row['NaoObservado'], row['Floresta'], id_municipio[0], id_ano[0])\n",
    "            cur.execute(insert, parametros)\n",
    "            \n",
    "# Execução das atualizações            \n",
    "conn.commit()"
   ]
  }
 ],
 "metadata": {
  "kernelspec": {
   "display_name": "Python 3",
   "language": "python",
   "name": "python3"
  },
  "language_info": {
   "codemirror_mode": {
    "name": "ipython",
    "version": 3
   },
   "file_extension": ".py",
   "mimetype": "text/x-python",
   "name": "python",
   "nbconvert_exporter": "python",
   "pygments_lexer": "ipython3",
   "version": "3.8.8"
  }
 },
 "nbformat": 4,
 "nbformat_minor": 5
}
